{
 "cells": [
  {
   "cell_type": "markdown",
   "metadata": {},
   "source": [
    "* plotly imports\n",
    "* plotly axis limits"
   ]
  },
  {
   "cell_type": "code",
   "execution_count": null,
   "metadata": {},
   "outputs": [],
   "source": [
    "%load_ext autoreload\n",
    "%autoreload 2"
   ]
  },
  {
   "cell_type": "code",
   "execution_count": null,
   "metadata": {},
   "outputs": [],
   "source": [
    "import plotly\n",
    "import plotly.graph_objs as go\n",
    "from plotly.offline import iplot\n",
    "\n",
    "plotly.offline.init_notebook_mode(connected=True);"
   ]
  },
  {
   "cell_type": "code",
   "execution_count": null,
   "metadata": {},
   "outputs": [],
   "source": [
    "import tensorflow as tf\n",
    "import numpy as np"
   ]
  },
  {
   "cell_type": "code",
   "execution_count": null,
   "metadata": {},
   "outputs": [],
   "source": [
    "sess = tf.Session()"
   ]
  },
  {
   "cell_type": "code",
   "execution_count": null,
   "metadata": {},
   "outputs": [],
   "source": [
    "true_pars = tf.Variable([2400, -0.1, 0.3, 100, 100, 0.01], dtype=tf.float64)"
   ]
  },
  {
   "cell_type": "code",
   "execution_count": null,
   "metadata": {},
   "outputs": [],
   "source": [
    "x = tf.placeholder(dtype=tf.float64)\n",
    "y_true = true_pars[0]*(tf.exp(true_pars[1]*x) + true_pars[2]*tf.exp( -(true_pars[3] - x)**2 / 2 / true_pars[4]**2 ) + true_pars[5])\n",
    "noise_term = tf.random_normal(shape=[250], mean=0, stddev=20, dtype=tf.float64) / tf.sqrt(y_true / 2400)\n",
    "y_noise = y_true + noise_term"
   ]
  },
  {
   "cell_type": "code",
   "execution_count": null,
   "metadata": {},
   "outputs": [],
   "source": [
    "x_eval = np.arange(0, 250, 1)\n",
    "\n",
    "sess.run(tf.global_variables_initializer())\n",
    "y_true, y_meas = sess.run([y_true, y_noise], {x: x_eval})\n",
    "\n",
    "layout = go.Layout(\n",
    "    yaxis=dict(range=[0,4000])\n",
    ")\n",
    "\n",
    "iplot(go.Figure(data=[\n",
    "        go.Scatter(x=x_eval, y=y_true),\n",
    "        go.Scatter(x=x_eval, y=y_meas)\n",
    "    ], \n",
    "    layout=layout))"
   ]
  },
  {
   "cell_type": "code",
   "execution_count": null,
   "metadata": {},
   "outputs": [],
   "source": [
    "\n",
    "# a = tf.Variable([3000], dtype=tf.float64)\n",
    "# b = tf.Variable([-0.1], dtype=tf.float64)\n",
    "# c = tf.Variable([0.2], dtype=tf.float64)\n",
    "# d = tf.Variable([100], dtype=tf.float64)\n",
    "# e = tf.Variable([100], dtype=tf.float64)\n",
    "# f = tf.Variable([0.01], dtype=tf.float64)"
   ]
  },
  {
   "cell_type": "code",
   "execution_count": null,
   "metadata": {},
   "outputs": [],
   "source": [
    "# y_fitted = a*(tf.exp(b*x) + \n",
    "#               c*tf.exp( -(d - x)**2 / 2 / e**2 ) + \n",
    "#               f)"
   ]
  },
  {
   "cell_type": "code",
   "execution_count": null,
   "metadata": {},
   "outputs": [],
   "source": [
    "fitted_pars = tf.Variable([1, -1, 1, 1, 1, 1], dtype=tf.float64)\n",
    "\n",
    "y_fitted = fitted_pars[0]*(tf.exp(fitted_pars[1]*x) + \n",
    "              fitted_pars[2]*tf.exp( -(fitted_pars[3] - x)**2 / 2 / fitted_pars[4]**2 ) + \n",
    "              fitted_pars[5])"
   ]
  },
  {
   "cell_type": "code",
   "execution_count": null,
   "metadata": {},
   "outputs": [],
   "source": [
    "loss = tf.reduce_mean(tf.square(y_fitted - y_meas))\n",
    "# loss_grad = tf.gradients(y_fitted, [a, b, c, d, e, f])"
   ]
  },
  {
   "cell_type": "code",
   "execution_count": null,
   "metadata": {},
   "outputs": [],
   "source": [
    "sess.run(tf.global_variables_initializer())\n",
    "# sess.run(loss_grad, {x: x_eval});\n",
    "print(np.sqrt(sess.run(loss, {x: x_eval})))\n",
    "\n",
    "y_fit_eval = sess.run(y_fitted, {x: x_eval})\n",
    "\n",
    "iplot(go.Figure(data=[go.Scatter(x=x_eval, y=y_fit_eval),\n",
    "                      go.Scatter(x=x_eval, y=y_meas)],\n",
    "                layout=layout))\n"
   ]
  },
  {
   "cell_type": "code",
   "execution_count": null,
   "metadata": {},
   "outputs": [],
   "source": [
    "train = tf.train.AdamOptimizer(0.05)\n",
    "train = train.minimize(loss)\n",
    "sess.run(tf.global_variables_initializer())"
   ]
  },
  {
   "cell_type": "code",
   "execution_count": null,
   "metadata": {},
   "outputs": [],
   "source": [
    "n_iter = 100000\n",
    "for i in range(n_iter):\n",
    "    if (i%int(n_iter/40)) == 0:\n",
    "        print(\"loss: {}\".format(np.sqrt(sess.run(loss, {x: x_eval}))))\n",
    "    \n",
    "    sess.run(train, {x: x_eval})\n",
    "    \n",
    "    \n",
    "y_fit_eval = sess.run(y_fitted, {x: x_eval})\n",
    "\n",
    "iplot(go.Figure(data=[go.Scatter(x=x_eval, y=y_fit_eval),\n",
    "                      go.Scatter(x=x_eval, y=y_meas)],\n",
    "                layout=layout))\n",
    "        "
   ]
  },
  {
   "cell_type": "code",
   "execution_count": null,
   "metadata": {},
   "outputs": [],
   "source": [
    "sess.run(fitted_pars)"
   ]
  },
  {
   "cell_type": "code",
   "execution_count": null,
   "metadata": {},
   "outputs": [],
   "source": [
    "sess.run(fitted_pars)"
   ]
  },
  {
   "cell_type": "code",
   "execution_count": null,
   "metadata": {},
   "outputs": [],
   "source": [
    "sess.run(fitted_pars)"
   ]
  },
  {
   "cell_type": "markdown",
   "metadata": {},
   "source": [
    "Curve fitting with TF\n",
    "\n",
    "==> Start conditions close to true values\n",
    "\n",
    "==> Gradient descent\n",
    "\n",
    "==> Adam\n",
    "\n",
    "==> Learning rate\n",
    "\n",
    "==> Now, completely different starting conditions\n",
    "\n",
    "==> Saddle\n",
    "\n",
    "==> Continue iterating with 20000 iterations, show that curve barely changes, but parameter values do\n",
    "\n",
    "==> See that it bounces through\n",
    "\n",
    "==> Degenercay, final words\n",
    "\n",
    "\n",
    "\n",
    "\n",
    "\n"
   ]
  }
 ],
 "metadata": {
  "kernelspec": {
   "display_name": "Python 3",
   "language": "python",
   "name": "python3"
  },
  "language_info": {
   "codemirror_mode": {
    "name": "ipython",
    "version": 3
   },
   "file_extension": ".py",
   "mimetype": "text/x-python",
   "name": "python",
   "nbconvert_exporter": "python",
   "pygments_lexer": "ipython3",
   "version": "3.6.2"
  }
 },
 "nbformat": 4,
 "nbformat_minor": 2
}
