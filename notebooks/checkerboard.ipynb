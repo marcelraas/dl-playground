{
 "cells": [
  {
   "cell_type": "code",
   "execution_count": null,
   "metadata": {},
   "outputs": [],
   "source": [
    "import keras\n",
    "import numpy as np\n",
    "import matplotlib.pyplot as plt\n",
    "%matplotlib inline\n",
    "\n",
    "from keras.regularizers import l2"
   ]
  },
  {
   "cell_type": "code",
   "execution_count": null,
   "metadata": {},
   "outputs": [],
   "source": [
    "from keras import backend as K\n",
    "import tensorflow as tf\n",
    "\n",
    "config = tf.ConfigProto(intra_op_parallelism_threads=8, \\\n",
    "                        inter_op_parallelism_threads=8, \\\n",
    "                        allow_soft_placement=False, \\\n",
    "                        device_count = {'CPU': 8})\n",
    "session = tf.Session(config=config)\n",
    "K.set_session(session)"
   ]
  },
  {
   "cell_type": "code",
   "execution_count": null,
   "metadata": {},
   "outputs": [],
   "source": [
    "n_points = 100000"
   ]
  },
  {
   "cell_type": "code",
   "execution_count": null,
   "metadata": {},
   "outputs": [],
   "source": [
    "x = np.random.uniform(low=-1, high=1, size=[n_points, 2])\n",
    "y = np.sign(np.sin(10*x[:, 0]*np.pi) * np.sin(10*x[:, 1]*np.pi))\n",
    "y += x[:, 0] + x[:, 1]"
   ]
  },
  {
   "cell_type": "code",
   "execution_count": null,
   "metadata": {},
   "outputs": [],
   "source": [
    "plt.figure(figsize=(32, 32))\n",
    "plt.scatter(x[:, 0], x[:, 1], c=y)\n",
    "plt.clim([-2,2])"
   ]
  },
  {
   "cell_type": "code",
   "execution_count": null,
   "metadata": {},
   "outputs": [],
   "source": [
    "model_1 = keras.models.Sequential()\n",
    "\n",
    "# model.add(keras.layers.Dense(activation='tanh', units=64, input_shape=(2,), kernel_regularizer=l2(0.001)))\n",
    "# model.add(keras.layers.Dense(activation='tanh', units=32, input_shape=(2,), kernel_regularizer=l2(0.001)))\n",
    "# model.add(keras.layers.Dense(activation='tanh', units=16, input_shape=(2,), kernel_regularizer=l2(0.001)))\n",
    "# model.add(keras.layers.Dense(activation='tanh', units=8, input_shape=(2,), kernel_regularizer=l2(0.001)))\n",
    "\n",
    "\n",
    "# model.add(keras.layers.Dense(activation='tanh', units=128, input_shape=(2,), kernel_regularizer=l2(0.001)))\n",
    "model_1.add(keras.layers.Dense(activation='relu', units=15*64, input_shape=(2,), kernel_regularizer=l2(0.0001)))\n",
    "model_1.add(keras.layers.Dropout(0.1))\n",
    "model_1.add(keras.layers.Dense(activation='relu', units=15*32, kernel_regularizer=l2(0.0001)))\n",
    "model_1.add(keras.layers.Dropout(0.1))\n",
    "model_1.add(keras.layers.Dense(activation='relu', units=15*16, kernel_regularizer=l2(0.0001)))\n",
    "model_1.add(keras.layers.Dropout(0.1))\n",
    "model_1.add(keras.layers.Dense(activation='relu', units=15*16, kernel_regularizer=l2(0.0001)))\n",
    "model_1.add(keras.layers.Dropout(0.1))\n",
    "model_1.add(keras.layers.Dense(activation='relu', units=15*16, kernel_regularizer=l2(0.0001)))\n",
    "model_1.add(keras.layers.Dropout(0.1))\n",
    "model_1.add(keras.layers.Dense(activation='relu', units=15*16, kernel_regularizer=l2(0.0001)))\n",
    "model_1.add(keras.layers.Dropout(0.1))\n",
    "model_1.add(keras.layers.Dense(activation='relu', units=15*16, kernel_regularizer=l2(0.0001)))\n",
    "# model.add(keras.layers.Dense(activation='relu', units=15*16, kernel_regularizer=l2(0.0001)))\n",
    "\n",
    "# model.add(keras.layers.Dropout(0.5))\n",
    "# model.add(keras.layers.Dense(activation='linear', units=15*4, kernel_regularizer=l2(0.001)))\n",
    "# # model.add(keras.layers.Dropout(0.5))\n",
    "# model.add(keras.layers.Dense(activation='linear', units=15*4, kernel_regularizer=l2(0.001)))\n",
    "# model.add(keras.layers.Dropout(0.5))\n",
    "# model.add(keras.layers.Dense(activation='tanh', units=1, input_shape=(2,), kernel_regularizer=l2(0.001)))\n",
    "# model.add(keras.layers.Dense(activation='tanh', units=, input_shape=(2,), kernel_regularizer=l2(0.0001)))\n",
    "# model.add(keras.layers.Dense(activation='relu', units=32))\n",
    "# model.add(keras.layers.Dropout(0.5))\n",
    "#model.add(keras.layers.Dense(activation='relu', units=16))\n",
    "# model.add(keras.layers.Dense(activation='relu', units=16))\n",
    "# model.add(keras.layers.Dense(activation='relu', units=16))\n",
    "# model.add(keras.layers.Dense(activation='relu', units=16))# , kernel_regularizer=l2(0.0001)))\n",
    "# model.add(keras.layers.Dropout(0.01))\n",
    "# model.add(keras.layers.Dense(activation='relu', units=64))\n",
    "\n",
    "\n",
    "# model.add(keras.layers.Dense(activation='relu', units=16))\n",
    "# model.add(keras.layers.Dense(activation='relu', units=4))\n",
    "# model.add(keras.layers.Dropout(0.1))\n",
    "# model.add(keras.layers.Dropout(0.5))\n",
    "# model.add(keras.layers.Dense(activation='tanh', units=256, kernel_regularizer=l2(0.0001)))\n",
    "\n",
    "# model.add(keras.layers.Dense(activation='tanh', units=256, kernel_regularizer=l2(0.0001)))\n",
    "model_1.add(keras.layers.Dense(activation='linear', units=1))\n",
    "\n",
    "sgd = keras.optimizers.RMSprop()\n",
    "\n",
    "model_1.compile(optimizer=sgd, loss='mse')\n",
    "\n",
    "for ii in range(2):\n",
    "    model_1.fit(x, y, batch_size=1000, epochs=10, verbose=1)\n",
    "    \n",
    "    y_pred = model_1.predict(x).reshape(-1)\n",
    "    plt.figure(figsize=(8, 8))\n",
    "    plt.scatter(x[:, 0], x[:, 1], c=y_pred)\n",
    "    plt.clim([-1,1])\n",
    "    plt.show()\n",
    "    \n",
    "\n"
   ]
  },
  {
   "cell_type": "markdown",
   "metadata": {},
   "source": [
    "## import datetime as dt"
   ]
  },
  {
   "cell_type": "code",
   "execution_count": null,
   "metadata": {},
   "outputs": [],
   "source": [
    "from copy import deepcopy"
   ]
  },
  {
   "cell_type": "code",
   "execution_count": null,
   "metadata": {},
   "outputs": [],
   "source": [
    "x = np.random.uniform(low=-1, high=1, size=[n_points, 2])\n",
    "y = np.sign(np.sin(10*x[:, 0]*np.pi) * np.sin(10*x[:, 1]*np.pi))"
   ]
  },
  {
   "cell_type": "code",
   "execution_count": null,
   "metadata": {},
   "outputs": [],
   "source": [
    "#  model_2 = deepcopy(model_1)\n",
    "\n",
    "for ii in range(100):\n",
    "    model_1.fit(x, y, batch_size=100, epochs=10, verbose=1)\n",
    "    \n",
    "    y_pred = model.predict(x).reshape(-1)\n",
    "    plt.figure(figsize=(8, 8))\n",
    "    plt.scatter(x[:, 0], x[:, 1], c=y_pred)\n",
    "    plt.clim([-1,1])\n",
    "    plt.show()"
   ]
  },
  {
   "cell_type": "code",
   "execution_count": null,
   "metadata": {},
   "outputs": [],
   "source": []
  }
 ],
 "metadata": {
  "kernelspec": {
   "display_name": "Python 3",
   "language": "python",
   "name": "python3"
  },
  "language_info": {
   "codemirror_mode": {
    "name": "ipython",
    "version": 3
   },
   "file_extension": ".py",
   "mimetype": "text/x-python",
   "name": "python",
   "nbconvert_exporter": "python",
   "pygments_lexer": "ipython3",
   "version": "3.6.2"
  }
 },
 "nbformat": 4,
 "nbformat_minor": 2
}
